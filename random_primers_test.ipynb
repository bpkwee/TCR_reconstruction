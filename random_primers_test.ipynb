{
 "cells": [
  {
   "cell_type": "code",
   "execution_count": 1,
   "outputs": [],
   "source": [
    "import numpy as np\n",
    "def check_unique(board, row, column):\n",
    "    # Get distinct values from row and column\n",
    "    row_values = np.unique(board[row,:])\n",
    "    col_values = np.unique(board[:,column])\n",
    "\n",
    "    # Bring all into one list\n",
    "    all_values = np.concatenate((row_values, col_values), axis=None)\n",
    "\n",
    "    # Then take the unique values from all of them\n",
    "    unique_values = np.unique(all_values)\n",
    "\n",
    "    return unique_values\n",
    "\n",
    "\n",
    "def fill_values(board, row, column, number):\n",
    "    # We're only interested in values not yet filled\n",
    "    if board[row,column] == 0:\n",
    "\n",
    "        # Check unique numbers in row, column, and sub cell\n",
    "        existing_values = check_unique(board, row, column)\n",
    "\n",
    "        # Get numbers from 1-9 that don't appear in unique numbers list\n",
    "        if number in existing_values:\n",
    "            number = 0\n",
    "\n",
    "        board[row,column] = number"
   ],
   "metadata": {
    "collapsed": false,
    "pycharm": {
     "name": "#%%\n"
    }
   }
  },
  {
   "cell_type": "markdown",
   "source": [
    "# new approach: sudoku!\n",
    "fill in desired number of TCRs and number of replicates"
   ],
   "metadata": {
    "collapsed": false,
    "pycharm": {
     "name": "#%% md\n"
    }
   }
  },
  {
   "cell_type": "code",
   "execution_count": 10,
   "outputs": [],
   "source": [
    "n_tcr = 14 # can be changed to whatever is desired\n",
    "tcr_replicates = 5"
   ],
   "metadata": {
    "collapsed": false,
    "pycharm": {
     "name": "#%%\n"
    }
   }
  },
  {
   "cell_type": "markdown",
   "source": [
    "### now run the script to get the optimal layout"
   ],
   "metadata": {
    "collapsed": false,
    "pycharm": {
     "name": "#%% md\n"
    }
   }
  },
  {
   "cell_type": "code",
   "execution_count": 18,
   "outputs": [
    {
     "name": "stdout",
     "output_type": "stream",
     "text": [
      "14 5 70 9\n",
      "[[14 13 12 11 10  9  8  7  6]\n",
      " [ 5  4  3  2  1 14 13 12 11]\n",
      " [10  9  8  7  6  5  4  3  2]\n",
      " [ 1 14 13 12 11 10  9  8  7]\n",
      " [ 6  5  4  3  2  1 14 13 12]\n",
      " [11 10  9  8  7  6  5  4  3]\n",
      " [ 2  1 14 13 12 11 10  9  8]\n",
      " [ 7  6  5  4  3  2  0  0  0]\n",
      " [ 0  0  0  0  0  0  0  0  0]]\n"
     ]
    }
   ],
   "source": [
    "total_tcr = tcr_replicates * n_tcr\n",
    "axis_len = int(np.ceil(np.sqrt(total_tcr)))\n",
    "print(n_tcr,tcr_replicates,total_tcr,axis_len)\n",
    "\n",
    "\n",
    "tcr_1d = [i for m in range(tcr_replicates)  for i in range(1, n_tcr+1) ]\n",
    "\n",
    "# Get grid of 0's to represent empty cells\n",
    "board_zeroes = np.zeros(shape=(axis_len,axis_len), dtype=int)\n",
    "board_play = board_zeroes.copy()\n",
    "\n",
    "# until all TCRs are placed\n",
    "for i in range(10):\n",
    "    for row in range(axis_len):\n",
    "        for column in range(axis_len):\n",
    "            if len(tcr_1d) > 1:\n",
    "                number = tcr_1d.pop()\n",
    "                fill_values(board_play, row, column, number)\n",
    "            else:\n",
    "                break\n",
    "\n",
    "print(board_play)\n"
   ],
   "metadata": {
    "collapsed": false,
    "pycharm": {
     "name": "#%%\n"
    }
   }
  },
  {
   "cell_type": "markdown",
   "source": [
    "#  OLD APPROACH below!"
   ],
   "metadata": {
    "collapsed": false,
    "pycharm": {
     "name": "#%% md\n"
    }
   }
  },
  {
   "cell_type": "code",
   "execution_count": null,
   "outputs": [],
   "source": [
    "# import numpy as np\n",
    "#\n",
    "# tcr_replicates = 5\n",
    "# n_tcr = 10 # can be changed to whatever is desired\n",
    "# total_tcr = tcr_replicates * n_tcr\n",
    "# axis_len = int(np.ceil(np.sqrt(total_tcr)))\n",
    "#\n",
    "# print('n_tcr%axis_len = {}'.format(n_tcr%axis_len))\n",
    "#\n",
    "# # if total tcr can be divided by axis length, we want to add 1 to the axis length\n",
    "# modulo_check = [i for i in range(0,tcr_replicates,2)]\n",
    "# if n_tcr%axis_len in modulo_check:\n",
    "#     axis_len +=1\n",
    "#\n",
    "# n_primers = axis_len*2\n",
    "#\n",
    "# print('{0} primers ({2} axis len) needed for total {1} tcrs'.format(n_primers, total_tcr, axis_len))\n",
    "#\n",
    "# tcr_1d = np.array([i for j in range(tcr_replicates)  for i in range(1, n_tcr+1) ])\n",
    "# print(len(tcr_1d))\n",
    "# padding = np.zeros((axis_len*axis_len- len(tcr_1d)), dtype = int)\n",
    "# print(len(padding))\n",
    "# tcr_1d = np.append(tcr_1d,padding)\n",
    "# print(len(tcr_1d))\n",
    "# tcr_2d = tcr_1d.reshape(axis_len,axis_len)\n",
    "# tcr_2d\n",
    "\n"
   ],
   "metadata": {
    "collapsed": false,
    "pycharm": {
     "name": "#%%\n"
    }
   }
  },
  {
   "cell_type": "code",
   "execution_count": null,
   "outputs": [],
   "source": [
    "# import numpy as np\n",
    "#\n",
    "# tcr_replicates = 5\n",
    "# n_tcrs = [i for i in range(9,40) ]# can be changed to whatever is desired\n",
    "# for n_tcr in n_tcrs:\n",
    "#     total_tcr = tcr_replicates * n_tcr\n",
    "#     axis_len = int(np.ceil(np.sqrt(total_tcr)))\n",
    "#\n",
    "#\n",
    "#     print('n_tcr%axis_len = {}'.format(n_tcr%axis_len))\n",
    "#\n",
    "#     # if total tcr can be divided by axis length, we want to add 1 to the axis length\n",
    "#     modulo_check = [i for i in range(0,tcr_replicates,2)]\n",
    "#     while n_tcr%axis_len in modulo_check:\n",
    "#         axis_len +=1\n",
    "#\n",
    "#     print('n_tcr%axis_len = {}'.format(n_tcr%axis_len))\n",
    "#     n_primers = axis_len*2\n",
    "#\n",
    "#     print('{0} primers ({2} axis len) needed for total {1} tcrs'.format(n_primers, total_tcr, axis_len))\n",
    "#\n",
    "#     tcr_1d = np.array([i for j in range(tcr_replicates)  for i in range(1, n_tcr+1) ])\n",
    "#     print(len(tcr_1d))\n",
    "#     padding = np.zeros((axis_len*axis_len- len(tcr_1d)), dtype = int)\n",
    "#     print(len(padding))\n",
    "#     tcr_1d = np.append(tcr_1d,padding)\n",
    "#     print(len(tcr_1d))\n",
    "#     tcr_2d = tcr_1d.reshape(axis_len,axis_len)\n",
    "#     print(tcr_2d)\n",
    "\n",
    "\n",
    "\n"
   ],
   "metadata": {
    "collapsed": false,
    "pycharm": {
     "name": "#%%\n"
    }
   }
  }
 ],
 "metadata": {
  "kernelspec": {
   "display_name": "Python 3",
   "language": "python",
   "name": "python3"
  },
  "language_info": {
   "codemirror_mode": {
    "name": "ipython",
    "version": 2
   },
   "file_extension": ".py",
   "mimetype": "text/x-python",
   "name": "python",
   "nbconvert_exporter": "python",
   "pygments_lexer": "ipython2",
   "version": "2.7.6"
  }
 },
 "nbformat": 4,
 "nbformat_minor": 0
}