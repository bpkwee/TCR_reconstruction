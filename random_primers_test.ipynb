{
  "cells": [
    {
      "cell_type": "markdown",
      "metadata": {
        "id": "view-in-github",
        "colab_type": "text"
      },
      "source": [
        "<a href=\"https://colab.research.google.com/github/bpkwee/TCR_reconstruction/blob/main/random_primers_test.ipynb\" target=\"_parent\"><img src=\"https://colab.research.google.com/assets/colab-badge.svg\" alt=\"Open In Colab\"/></a>"
      ]
    },
    {
      "cell_type": "markdown",
      "source": [
        "#primer assignment to TCRs\n",
        "## first run this to initialize the functions that are used"
      ],
      "metadata": {
        "id": "fuiJz03ahKb6"
      }
    },
    {
      "cell_type": "code",
      "execution_count": null,
      "outputs": [],
      "source": [
        "import numpy as np\n",
        "from collections import defaultdict\n",
        "\n",
        "def check_unique(board, row, column):\n",
        "    # Get distinct values from row and column\n",
        "    row_values = np.unique(board[row,:])\n",
        "    col_values = np.unique(board[:,column])\n",
        "\n",
        "    # Bring all into one list\n",
        "    all_values = np.concatenate((row_values, col_values), axis=None)\n",
        "\n",
        "    # Then take the unique values from all of them\n",
        "    unique_values = np.unique(all_values)\n",
        "\n",
        "    return unique_values\n",
        "\n",
        "\n",
        "def fill_values(board, row, column, number, primer_list):\n",
        "    # We're only interested in values not yet filled\n",
        "    if board[row,column] == 0:\n",
        "\n",
        "        # Check unique numbers in row, column, and sub cell\n",
        "        existing_values = check_unique(board, row, column)\n",
        "\n",
        "        # Get numbers from 1-9 that don't appear in unique numbers list\n",
        "        if number in existing_values:\n",
        "            return True\n",
        "            \n",
        "        else: \n",
        "          board[row,column] = number\n",
        "          primer_list[number].append((row,column))\n",
        "          return False"
      ],
      "metadata": {
        "pycharm": {
          "name": "#%%\n"
        },
        "id": "Sar4o_5TVC4i"
      }
    },
    {
      "cell_type": "markdown",
      "source": [
        "## sudoku!\n",
        "##fill in desired number of TCRs and number of replicates\n",
        "The rows and column indices are the primers, the numbers in this matrix are the tcrs."
      ],
      "metadata": {
        "collapsed": false,
        "pycharm": {
          "name": "#%% md\n"
        },
        "id": "9q2-Z60UVC4k"
      }
    },
    {
      "cell_type": "code",
      "execution_count": null,
      "outputs": [],
      "source": [
        "n_tcr = 72 # can be changed to whatever is desired\n",
        "tcr_replicates = 5"
      ],
      "metadata": {
        "pycharm": {
          "name": "#%%\n"
        },
        "id": "Bpx6Ye_yVC4l"
      }
    },
    {
      "cell_type": "markdown",
      "source": [
        "### now run the script to get the optimal layout"
      ],
      "metadata": {
        "collapsed": false,
        "pycharm": {
          "name": "#%% md\n"
        },
        "id": "OfzxZ5a9VC4m"
      }
    },
    {
      "cell_type": "code",
      "execution_count": null,
      "outputs": [
        {
          "output_type": "stream",
          "name": "stdout",
          "text": [
            "number of tcdrs 72 \n",
            " tcr replicates 5 \n",
            " total number of tcrs 360 \n",
            " and the length of the axis of the grid 19 \n",
            " (double it for the required number of primers) \n",
            "\n",
            "[[72 71 70 69 68 67 66 65 64 63 62 61 60 59 58 57 56 55 54]\n",
            " [53 52 51 50 49 48 47 46 45 44 43 42 41 40 39 38 37 36 35]\n",
            " [34 33 32 31 30 29 28 27 26 25 24 23 22 21 20 19 18 17 16]\n",
            " [15 14 13 12 11 10  9  8  7  6  5  4  3  2  1 72 71 70 69]\n",
            " [68 67 66 65 64 63 62 61 60 59 58 57 56 55 54 53 52 51 50]\n",
            " [49 48 47 46 45 44 43 42 41 40 39 38 37 36 35 34 33 32 31]\n",
            " [30 29 28 27 26 25 24 23 22 21 20 19 18 17 16 15 14 13 12]\n",
            " [11 10  9  8  7  6  5  4  3  2  1 72 71 70 69 68 67 66 65]\n",
            " [64 63 62 61 60 59 58 57 56 55 54 53 52 51 50 49 48 47 46]\n",
            " [45 44 43 42 41 40 39 38 37 36 35 34 33 32 31 30 29 28 27]\n",
            " [26 25 24 23 22 21 20 19 18 17 16 15 14 13 12 11 10  9  8]\n",
            " [ 7  6  5  4  3  2  1 72 71 70 69 68 67 66 65 64 63 62 61]\n",
            " [60 59 58 57 56 55 54 53 52 51 50 49 48 47 46 45 44 43 42]\n",
            " [41 40 39 38 37 36 35 34 33 32 31 30 29 28 27 26 25 24 23]\n",
            " [22 21 20 19 18 17 16 15 14 13 12 11 10  9  8  7  6  5  4]\n",
            " [ 3  2  1 72 71 70 69 68 67 66 65 64 63 62 61 60 59 58 57]\n",
            " [56 55 54 53 52 51 50 49 48 47 46 45 44 43 42 41 40 39 38]\n",
            " [37 36 35 34 33 32 31 30 29 28 27 26 25 24 23 22 21 20 19]\n",
            " [18 17 16 15 14 13 12 11 10  9  8  7  6  5  4  3  2  1  0]]\n"
          ]
        }
      ],
      "source": [
        "total_tcr = tcr_replicates * n_tcr\n",
        "axis_len = int(np.ceil(np.sqrt(total_tcr)))\n",
        "print('number of tcrs {0} \\n tcr replicates {1} \\n total number of tcrs {2} \\n and the length of the axis of the grid {3} \\n (double it for the required number of primers) \\n'.format(n_tcr,tcr_replicates,total_tcr,axis_len))\n",
        "\n",
        "\n",
        "tcr_1d = [i for m in range(tcr_replicates)  for i in range(1, n_tcr+1) ]\n",
        "\n",
        "# Get grid of 0's to represent empty cells\n",
        "board_zeroes = np.zeros(shape=(axis_len,axis_len), dtype=int)\n",
        "board_play = board_zeroes.copy()\n",
        "tcr_primer_list = defaultdict(list)\n",
        "\n",
        "# until all TCRs are placed\n",
        "for i in range(10):\n",
        "    for row in range(axis_len):\n",
        "        for column in range(axis_len):\n",
        "            if len(tcr_1d) >= 1:\n",
        "                fail = True\n",
        "                while fail:\n",
        "                    number = tcr_1d.pop()\n",
        "                    fail = fill_values(board_play, row, column, number, tcr_primer_list)\n",
        "                    if not fail:\n",
        "                        break\n",
        "                    tcr_1d.insert(0, number)\n",
        "                    \n",
        "            else:\n",
        "                break\n",
        "\n",
        "print(board_play)\n",
        "\n",
        "\n"
      ],
      "metadata": {
        "pycharm": {
          "name": "#%%\n"
        },
        "id": "ucf8sgehVC4m",
        "outputId": "416245e4-cb2c-484b-c881-72a461d5141a",
        "colab": {
          "base_uri": "https://localhost:8080/"
        }
      }
    },
    {
      "cell_type": "markdown",
      "source": [
        "## Extract a list of TCRs and their corresponding coordinates on the grid:\n",
        "\n",
        "####(The rows and columns are numbered from 0, if this feature needs to be changed to start at 1 *just let me know!*)"
      ],
      "metadata": {
        "id": "ozMcnEoKrvAF"
      }
    },
    {
      "cell_type": "code",
      "source": [
        "for tcr, values in tcr_primer_list.items():\n",
        "    print('TCR number: {0} has primers sets {1}'.format(tcr,values))"
      ],
      "metadata": {
        "id": "tUWrsi8EnEdI",
        "outputId": "a012c8b7-5ae6-4916-9b6a-5a9f45b45e0b",
        "colab": {
          "base_uri": "https://localhost:8080/"
        }
      },
      "execution_count": null,
      "outputs": [
        {
          "output_type": "stream",
          "name": "stdout",
          "text": [
            "TCR number: 72 has primers sets [(0, 0), (3, 15), (7, 11), (11, 7), (15, 3)]\n",
            "TCR number: 71 has primers sets [(0, 1), (3, 16), (7, 12), (11, 8), (15, 4)]\n",
            "TCR number: 70 has primers sets [(0, 2), (3, 17), (7, 13), (11, 9), (15, 5)]\n",
            "TCR number: 69 has primers sets [(0, 3), (3, 18), (7, 14), (11, 10), (15, 6)]\n",
            "TCR number: 68 has primers sets [(0, 4), (4, 0), (7, 15), (11, 11), (15, 7)]\n",
            "TCR number: 67 has primers sets [(0, 5), (4, 1), (7, 16), (11, 12), (15, 8)]\n",
            "TCR number: 66 has primers sets [(0, 6), (4, 2), (7, 17), (11, 13), (15, 9)]\n",
            "TCR number: 65 has primers sets [(0, 7), (4, 3), (7, 18), (11, 14), (15, 10)]\n",
            "TCR number: 64 has primers sets [(0, 8), (4, 4), (8, 0), (11, 15), (15, 11)]\n",
            "TCR number: 63 has primers sets [(0, 9), (4, 5), (8, 1), (11, 16), (15, 12)]\n",
            "TCR number: 62 has primers sets [(0, 10), (4, 6), (8, 2), (11, 17), (15, 13)]\n",
            "TCR number: 61 has primers sets [(0, 11), (4, 7), (8, 3), (11, 18), (15, 14)]\n",
            "TCR number: 60 has primers sets [(0, 12), (4, 8), (8, 4), (12, 0), (15, 15)]\n",
            "TCR number: 59 has primers sets [(0, 13), (4, 9), (8, 5), (12, 1), (15, 16)]\n",
            "TCR number: 58 has primers sets [(0, 14), (4, 10), (8, 6), (12, 2), (15, 17)]\n",
            "TCR number: 57 has primers sets [(0, 15), (4, 11), (8, 7), (12, 3), (15, 18)]\n",
            "TCR number: 56 has primers sets [(0, 16), (4, 12), (8, 8), (12, 4), (16, 0)]\n",
            "TCR number: 55 has primers sets [(0, 17), (4, 13), (8, 9), (12, 5), (16, 1)]\n",
            "TCR number: 54 has primers sets [(0, 18), (4, 14), (8, 10), (12, 6), (16, 2)]\n",
            "TCR number: 53 has primers sets [(1, 0), (4, 15), (8, 11), (12, 7), (16, 3)]\n",
            "TCR number: 52 has primers sets [(1, 1), (4, 16), (8, 12), (12, 8), (16, 4)]\n",
            "TCR number: 51 has primers sets [(1, 2), (4, 17), (8, 13), (12, 9), (16, 5)]\n",
            "TCR number: 50 has primers sets [(1, 3), (4, 18), (8, 14), (12, 10), (16, 6)]\n",
            "TCR number: 49 has primers sets [(1, 4), (5, 0), (8, 15), (12, 11), (16, 7)]\n",
            "TCR number: 48 has primers sets [(1, 5), (5, 1), (8, 16), (12, 12), (16, 8)]\n",
            "TCR number: 47 has primers sets [(1, 6), (5, 2), (8, 17), (12, 13), (16, 9)]\n",
            "TCR number: 46 has primers sets [(1, 7), (5, 3), (8, 18), (12, 14), (16, 10)]\n",
            "TCR number: 45 has primers sets [(1, 8), (5, 4), (9, 0), (12, 15), (16, 11)]\n",
            "TCR number: 44 has primers sets [(1, 9), (5, 5), (9, 1), (12, 16), (16, 12)]\n",
            "TCR number: 43 has primers sets [(1, 10), (5, 6), (9, 2), (12, 17), (16, 13)]\n",
            "TCR number: 42 has primers sets [(1, 11), (5, 7), (9, 3), (12, 18), (16, 14)]\n",
            "TCR number: 41 has primers sets [(1, 12), (5, 8), (9, 4), (13, 0), (16, 15)]\n",
            "TCR number: 40 has primers sets [(1, 13), (5, 9), (9, 5), (13, 1), (16, 16)]\n",
            "TCR number: 39 has primers sets [(1, 14), (5, 10), (9, 6), (13, 2), (16, 17)]\n",
            "TCR number: 38 has primers sets [(1, 15), (5, 11), (9, 7), (13, 3), (16, 18)]\n",
            "TCR number: 37 has primers sets [(1, 16), (5, 12), (9, 8), (13, 4), (17, 0)]\n",
            "TCR number: 36 has primers sets [(1, 17), (5, 13), (9, 9), (13, 5), (17, 1)]\n",
            "TCR number: 35 has primers sets [(1, 18), (5, 14), (9, 10), (13, 6), (17, 2)]\n",
            "TCR number: 34 has primers sets [(2, 0), (5, 15), (9, 11), (13, 7), (17, 3)]\n",
            "TCR number: 33 has primers sets [(2, 1), (5, 16), (9, 12), (13, 8), (17, 4)]\n",
            "TCR number: 32 has primers sets [(2, 2), (5, 17), (9, 13), (13, 9), (17, 5)]\n",
            "TCR number: 31 has primers sets [(2, 3), (5, 18), (9, 14), (13, 10), (17, 6)]\n",
            "TCR number: 30 has primers sets [(2, 4), (6, 0), (9, 15), (13, 11), (17, 7)]\n",
            "TCR number: 29 has primers sets [(2, 5), (6, 1), (9, 16), (13, 12), (17, 8)]\n",
            "TCR number: 28 has primers sets [(2, 6), (6, 2), (9, 17), (13, 13), (17, 9)]\n",
            "TCR number: 27 has primers sets [(2, 7), (6, 3), (9, 18), (13, 14), (17, 10)]\n",
            "TCR number: 26 has primers sets [(2, 8), (6, 4), (10, 0), (13, 15), (17, 11)]\n",
            "TCR number: 25 has primers sets [(2, 9), (6, 5), (10, 1), (13, 16), (17, 12)]\n",
            "TCR number: 24 has primers sets [(2, 10), (6, 6), (10, 2), (13, 17), (17, 13)]\n",
            "TCR number: 23 has primers sets [(2, 11), (6, 7), (10, 3), (13, 18), (17, 14)]\n",
            "TCR number: 22 has primers sets [(2, 12), (6, 8), (10, 4), (14, 0), (17, 15)]\n",
            "TCR number: 21 has primers sets [(2, 13), (6, 9), (10, 5), (14, 1), (17, 16)]\n",
            "TCR number: 20 has primers sets [(2, 14), (6, 10), (10, 6), (14, 2), (17, 17)]\n",
            "TCR number: 19 has primers sets [(2, 15), (6, 11), (10, 7), (14, 3), (17, 18)]\n",
            "TCR number: 18 has primers sets [(2, 16), (6, 12), (10, 8), (14, 4), (18, 0)]\n",
            "TCR number: 17 has primers sets [(2, 17), (6, 13), (10, 9), (14, 5), (18, 1)]\n",
            "TCR number: 16 has primers sets [(2, 18), (6, 14), (10, 10), (14, 6), (18, 2)]\n",
            "TCR number: 15 has primers sets [(3, 0), (6, 15), (10, 11), (14, 7), (18, 3)]\n",
            "TCR number: 14 has primers sets [(3, 1), (6, 16), (10, 12), (14, 8), (18, 4)]\n",
            "TCR number: 13 has primers sets [(3, 2), (6, 17), (10, 13), (14, 9), (18, 5)]\n",
            "TCR number: 12 has primers sets [(3, 3), (6, 18), (10, 14), (14, 10), (18, 6)]\n",
            "TCR number: 11 has primers sets [(3, 4), (7, 0), (10, 15), (14, 11), (18, 7)]\n",
            "TCR number: 10 has primers sets [(3, 5), (7, 1), (10, 16), (14, 12), (18, 8)]\n",
            "TCR number: 9 has primers sets [(3, 6), (7, 2), (10, 17), (14, 13), (18, 9)]\n",
            "TCR number: 8 has primers sets [(3, 7), (7, 3), (10, 18), (14, 14), (18, 10)]\n",
            "TCR number: 7 has primers sets [(3, 8), (7, 4), (11, 0), (14, 15), (18, 11)]\n",
            "TCR number: 6 has primers sets [(3, 9), (7, 5), (11, 1), (14, 16), (18, 12)]\n",
            "TCR number: 5 has primers sets [(3, 10), (7, 6), (11, 2), (14, 17), (18, 13)]\n",
            "TCR number: 4 has primers sets [(3, 11), (7, 7), (11, 3), (14, 18), (18, 14)]\n",
            "TCR number: 3 has primers sets [(3, 12), (7, 8), (11, 4), (15, 0), (18, 15)]\n",
            "TCR number: 2 has primers sets [(3, 13), (7, 9), (11, 5), (15, 1), (18, 16)]\n",
            "TCR number: 1 has primers sets [(3, 14), (7, 10), (11, 6), (15, 2), (18, 17)]\n"
          ]
        }
      ]
    },
    {
      "cell_type": "markdown",
      "source": [
        "#  OLD APPROACH below!"
      ],
      "metadata": {
        "collapsed": false,
        "pycharm": {
          "name": "#%% md\n"
        },
        "id": "pAgWkfKaVC4n"
      }
    },
    {
      "cell_type": "code",
      "execution_count": null,
      "outputs": [],
      "source": [
        "# import numpy as np\n",
        "#\n",
        "# tcr_replicates = 5\n",
        "# n_tcr = 10 # can be changed to whatever is desired\n",
        "# total_tcr = tcr_replicates * n_tcr\n",
        "# axis_len = int(np.ceil(np.sqrt(total_tcr)))\n",
        "#\n",
        "# print('n_tcr%axis_len = {}'.format(n_tcr%axis_len))\n",
        "#\n",
        "# # if total tcr can be divided by axis length, we want to add 1 to the axis length\n",
        "# modulo_check = [i for i in range(0,tcr_replicates,2)]\n",
        "# if n_tcr%axis_len in modulo_check:\n",
        "#     axis_len +=1\n",
        "#\n",
        "# n_primers = axis_len*2\n",
        "#\n",
        "# print('{0} primers ({2} axis len) needed for total {1} tcrs'.format(n_primers, total_tcr, axis_len))\n",
        "#\n",
        "# tcr_1d = np.array([i for j in range(tcr_replicates)  for i in range(1, n_tcr+1) ])\n",
        "# print(len(tcr_1d))\n",
        "# padding = np.zeros((axis_len*axis_len- len(tcr_1d)), dtype = int)\n",
        "# print(len(padding))\n",
        "# tcr_1d = np.append(tcr_1d,padding)\n",
        "# print(len(tcr_1d))\n",
        "# tcr_2d = tcr_1d.reshape(axis_len,axis_len)\n",
        "# tcr_2d\n",
        "\n"
      ],
      "metadata": {
        "pycharm": {
          "name": "#%%\n"
        },
        "id": "kT6D1roYVC4o"
      }
    },
    {
      "cell_type": "code",
      "execution_count": null,
      "outputs": [],
      "source": [
        "# import numpy as np\n",
        "#\n",
        "# tcr_replicates = 5\n",
        "# n_tcrs = [i for i in range(9,40) ]# can be changed to whatever is desired\n",
        "# for n_tcr in n_tcrs:\n",
        "#     total_tcr = tcr_replicates * n_tcr\n",
        "#     axis_len = int(np.ceil(np.sqrt(total_tcr)))\n",
        "#\n",
        "#\n",
        "#     print('n_tcr%axis_len = {}'.format(n_tcr%axis_len))\n",
        "#\n",
        "#     # if total tcr can be divided by axis length, we want to add 1 to the axis length\n",
        "#     modulo_check = [i for i in range(0,tcr_replicates,2)]\n",
        "#     while n_tcr%axis_len in modulo_check:\n",
        "#         axis_len +=1\n",
        "#\n",
        "#     print('n_tcr%axis_len = {}'.format(n_tcr%axis_len))\n",
        "#     n_primers = axis_len*2\n",
        "#\n",
        "#     print('{0} primers ({2} axis len) needed for total {1} tcrs'.format(n_primers, total_tcr, axis_len))\n",
        "#\n",
        "#     tcr_1d = np.array([i for j in range(tcr_replicates)  for i in range(1, n_tcr+1) ])\n",
        "#     print(len(tcr_1d))\n",
        "#     padding = np.zeros((axis_len*axis_len- len(tcr_1d)), dtype = int)\n",
        "#     print(len(padding))\n",
        "#     tcr_1d = np.append(tcr_1d,padding)\n",
        "#     print(len(tcr_1d))\n",
        "#     tcr_2d = tcr_1d.reshape(axis_len,axis_len)\n",
        "#     print(tcr_2d)\n",
        "\n",
        "\n",
        "\n"
      ],
      "metadata": {
        "pycharm": {
          "name": "#%%\n"
        },
        "id": "vdtt_b42VC4o"
      }
    }
  ],
  "metadata": {
    "kernelspec": {
      "display_name": "Python 3",
      "language": "python",
      "name": "python3"
    },
    "language_info": {
      "codemirror_mode": {
        "name": "ipython",
        "version": 2
      },
      "file_extension": ".py",
      "mimetype": "text/x-python",
      "name": "python",
      "nbconvert_exporter": "python",
      "pygments_lexer": "ipython2",
      "version": "2.7.6"
    },
    "colab": {
      "name": "random_primers_test.ipynb",
      "provenance": [],
      "include_colab_link": true
    }
  },
  "nbformat": 4,
  "nbformat_minor": 0
}