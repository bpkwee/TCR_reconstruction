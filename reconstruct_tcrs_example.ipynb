{
 "cells": [
  {
   "cell_type": "code",
   "execution_count": null,
   "outputs": [],
   "source": [
    "!git clone https://github.com/bpkwee/TCR_reconstruction\n",
    "!pip install pysam"
   ],
   "metadata": {
    "collapsed": false,
    "pycharm": {
     "name": "#%%\n"
    }
   }
  },
  {
   "cell_type": "code",
   "execution_count": null,
   "outputs": [],
   "source": [
    "# Full length tcr reconstruction\n",
    "In this notebook an example is given on how to reconstruct full length tcr sequences from V, J and CDR3 annotations.\n",
    "\n",
    "The reconstruction algorithm has been benchmarked on an internal dataset (RootPath), and an publically available dataset (10x).\n",
    "Compared to the reconstruction of RootPath this reconstruction method matched near 100%$^1$ of their reconstructions (900+ TCRA and TCRB).\n",
    "The 10x data was biological sample of 10k TCRS (50/50 TCRA/TCRB). The reconstruction fidelity of this dataset was $>85\\%$\n",
    "The remaining $15\\%$ was explained by biological and/or technical noise and by missing info for allelic differences (alleles are often not annotated).\n",
    "\n",
    "1. small differences were explained by a possible error and difference in assumptions between the unknown RootPath script and this method.\n",
    "\n",
    "## Requirements\n",
    "- a .csv file that contains the following columns (can be obtained by exporting/saving an excel file as .csv)\n",
    "    - V and J annotations columns should contain the following column names: `TRAV', 'TRAJ',  'TRBV' and 'TRBJ`\n",
    "    - CDR3a and CDR3b annotations should contain the following column names: `'cdr3_alpha_aa', 'cdr3_beta_aa'`\n",
    "- two translation dictionaries\n",
    "    - Multiple versions can be found in `TCR_reconstruction/data/VDJ_gene_sequences/IMGT_versions`\n",
    "    - These translate (ambiguous) annotations to IMGT standardized format, and takes the corresponding V and J sequences.\n",
    "    - When no\n",
    "    - One should contain the IMGT annoations as keys with the $AA$ (amino acid) sequences as values\n",
    "    - The other should contain the IMGT annoations as keys with the $NT$ (nucleotide) sequences as values\n"
   ],
   "metadata": {
    "collapsed": false,
    "pycharm": {
     "name": "#%%\n"
    }
   }
  },
  {
   "cell_type": "markdown",
   "metadata": {
    "collapsed": true,
    "pycharm": {
     "name": "#%% md\n"
    }
   },
   "source": [
    "# Full length tcr reconstruction\n",
    "In this notebook an example is given on how to reconstruct full length tcr sequences from V, J and CDR3 annotations.\n",
    "\n",
    "The reconstruction algorithm has been benchmarked on an internal dataset (RootPath), and an publically available dataset (10x).\n",
    "Compared to the reconstruction of RootPath this reconstruction method matched near 100%$^1$ of their reconstructions (900+ TCRA and TCRB).\n",
    "The 10x data was biological sample of 10k TCRS (50/50 TCRA/TCRB). The reconstruction fidelity of this dataset was $>85\\%$\n",
    "The remaining $15\\%$ was explained by biological and/or technical noise and by missing info for allelic differences (alleles are often not annotated).\n",
    "\n",
    "1. small differences were explained by a possible error and difference in assumptions between the unknown RootPath script and this method.\n",
    "\n",
    "## Requirements\n",
    "- a .csv file that contains the following columns (can be obtained by exporting/saving an excel file as .csv)\n",
    "    - V and J annotations columns should contain the following column names: `TRAV', 'TRAJ',  'TRBV' and 'TRBJ`\n",
    "    - CDR3a and CDR3b annotations should contain the following column names: `'cdr3_alpha_aa', 'cdr3_beta_aa'`\n",
    "- two translation dictionaries\n",
    "    - Multiple versions can be found in `TCR_reconstruction/data/VDJ_gene_sequences/IMGT_versions`\n",
    "    - These translate (ambiguous) annotations to IMGT standardized format, and takes the corresponding V and J sequences.\n",
    "    - When no\n",
    "    - One should contain the IMGT annoations as keys with the $AA$ (amino acid) sequences as values\n",
    "    - The other should contain the IMGT annoations as keys with the $NT$ (nucleotide) sequences as values\n"
   ]
  },
  {
   "cell_type": "code",
   "execution_count": 2,
   "outputs": [],
   "source": [
    "# import the reconstruct_full_tcr function\n",
    "from TCR_reconstruction.logger.logger import init_logger\n",
    "from TCR_reconstruction.vdj_reconstruction_utils import reconstruct_full_tcr, reconstruct_vdj\n",
    "\n",
    "logger = init_logger('TCR_reconstruction.log', level_msg='INFO')"
   ],
   "metadata": {
    "collapsed": false,
    "pycharm": {
     "name": "#%%\n"
    }
   }
  },
  {
   "cell_type": "markdown",
   "source": [
    "Here the file paths should be given\n",
    "\n",
    "Example:\n",
    "```\n",
    "saved_dataset_file_path = '../TCR_reconstruction/data/saved_data/2021-11-11_15h_final.csv'\n",
    "translation_dict_aa = '../TCR_reconstruction/data/VDJ_gene_sequences/IMGT_versions/after_benchmark/functional_with_L-PART1+V-EXON_after_benchmark/vdj_translation_dict_aa_2021-12-05_18h_.json'\n",
    "translation_dict_nt = '../TCR_reconstruction/data/VDJ_gene_sequences/IMGT_versions/after_benchmark/functional_with_L-PART1+V-EXON_after_benchmark/vdj_translation_dict_nt_2021-12-05_18h_.json'\n",
    "```"
   ],
   "metadata": {
    "collapsed": false
   }
  },
  {
   "cell_type": "code",
   "execution_count": 4,
   "outputs": [],
   "source": [
    "saved_dataset_file_path = '../TCR_reconstruction/data/saved_data/2021-11-11_15h_final.csv'\n",
    "translation_dict_aa = '../TCR_reconstruction/data/VDJ_gene_sequences/IMGT_versions/after_benchmark/functional_with_L-PART1+V-EXON_after_benchmark/vdj_translation_dict_aa_2021-12-05_18h_.json'\n",
    "translation_dict_nt = '../TCR_reconstruction/data/VDJ_gene_sequences/IMGT_versions/after_benchmark/functional_with_L-PART1+V-EXON_after_benchmark/vdj_translation_dict_nt_2021-12-05_18h_.json'\n",
    "dataset = pandas.read_csv(saved_dataset_file_path, low_memory=False)"
   ],
   "metadata": {
    "collapsed": false,
    "pycharm": {
     "name": "#%%\n"
    }
   }
  },
  {
   "cell_type": "markdown",
   "source": [
    "Reconstruct the v,d and j aa and nt sequences from TRAV, TRAJ, TRBV, TRBJ annotations\n"
   ],
   "metadata": {
    "collapsed": false,
    "pycharm": {
     "name": "#%% md\n"
    }
   }
  },
  {
   "cell_type": "code",
   "execution_count": 5,
   "outputs": [],
   "source": [
    "for vdj in ['TRAV', 'TRAJ', 'TRBV', 'TRBD', 'TRBJ']:\n",
    "    dataset[vdj + '_imgt_aa'],  dataset[vdj + '_seq_aa'],  dataset[\n",
    "        vdj + '_imgt_nt'],  dataset[vdj + '_seq_nt'] = reconstruct_vdj(dataset,\n",
    "                                                                       vdj,\n",
    "                                                                       translation_dict_nt,\n",
    "                                                                       translation_dict_aa)"
   ],
   "metadata": {
    "collapsed": false,
    "pycharm": {
     "name": "#%%\n"
    }
   }
  },
  {
   "cell_type": "markdown",
   "source": [
    "Calculate how many annotations could be matched to a IMGT sequence:"
   ],
   "metadata": {
    "collapsed": false,
    "pycharm": {
     "name": "#%% md\n"
    }
   }
  },
  {
   "cell_type": "code",
   "execution_count": 6,
   "outputs": [
    {
     "name": "stdout",
     "output_type": "stream",
     "text": [
      "TRAV imputed: 79138 / 79875 total annotations (129664) (AA)\n",
      "TRAJ imputed: 79567 / 79748 total annotations (129664) (AA)\n",
      "TRBV imputed: 115826 / 118060 total annotations (129664) (AA)\n",
      "TRBD imputed: 55734 / 74483 total annotations (129664) (AA)\n",
      "TRBJ imputed: 106635 / 106786 total annotations (129664) (AA)\n",
      "TRAV imputed: 79157 / 79875 total annotations (129664) (NT)\n",
      "TRAJ imputed: 78796 / 79748 total annotations (129664) (NT)\n",
      "TRBV imputed: 115887 / 118060 total annotations (129664) (NT)\n",
      "TRBD imputed: 55734 / 74483 total annotations (129664) (NT)\n",
      "TRBJ imputed: 106635 / 106786 total annotations (129664) (NT)\n"
     ]
    }
   ],
   "source": [
    "total_len = len(  dataset)\n",
    "for nt_or_aa in ['aa', 'nt']:\n",
    "    for vdj in ['TRAV', 'TRAJ', 'TRBV', 'TRBD', 'TRBJ']:\n",
    "        count = sum(  dataset[vdj + '_seq_' + nt_or_aa].notna())\n",
    "        count_original = sum(  dataset[vdj].notna())\n",
    "        print('{0} imputed: {1} / {4} total annotations ({2}) ({3})'.format(vdj, count, total_len,\n",
    "                                                                                  nt_or_aa.upper(),\n",
    "                                                                                  count_original))"
   ],
   "metadata": {
    "collapsed": false,
    "pycharm": {
     "name": "#%%\n"
    }
   }
  },
  {
   "cell_type": "markdown",
   "source": [
    "reconstructing the full sequence for the beta and alpha TCR"
   ],
   "metadata": {
    "collapsed": false,
    "pycharm": {
     "name": "#%% md\n"
    }
   }
  },
  {
   "cell_type": "code",
   "execution_count": 9,
   "outputs": [],
   "source": [
    "# beta\n",
    "dataset['full_seq_reconstruct_beta_aa'] = reconstruct_full_tcr(dataset['TRBV_seq_nt'],\n",
    "                                                               dataset['TRBV_seq_aa'],\n",
    "                                                               dataset['TRBJ_seq_nt'],\n",
    "                                                               dataset['TRBJ_seq_aa'],\n",
    "                                                               dataset['cdr3_beta_aa'],\n",
    "                                                               include_leader=False)\n",
    "# alpha\n",
    "dataset['full_seq_reconstruct_alpha_aa'] = reconstruct_full_tcr(dataset['TRAV_seq_nt'],\n",
    "                                                                dataset['TRAV_seq_aa'],\n",
    "                                                                dataset['TRAJ_seq_nt'],\n",
    "                                                                dataset['TRAJ_seq_aa'],\n",
    "                                                                dataset['cdr3_alpha_aa'],\n",
    "                                                                include_leader=False)"
   ],
   "metadata": {
    "collapsed": false,
    "pycharm": {
     "name": "#%%\n"
    }
   }
  },
  {
   "cell_type": "markdown",
   "source": [
    "Calculate how many could be reconstructed:"
   ],
   "metadata": {
    "collapsed": false,
    "pycharm": {
     "name": "#%% md\n"
    }
   }
  },
  {
   "cell_type": "code",
   "execution_count": 10,
   "outputs": [
    {
     "name": "stdout",
     "output_type": "stream",
     "text": [
      "Could reconstruct full BETA TCR for 104275 entries of total 119093 CDR3b entries\n",
      "Could  reconstruct full ALPHA TCR for 76528 entries of total 80956 CDR3a entries\n"
     ]
    }
   ],
   "source": [
    "print('Could reconstruct full BETA TCR for {0} entries of total {1} CDR3b entries'.format(\n",
    "    sum(dataset['full_seq_reconstruct_beta_aa'].notna()),\n",
    "    sum(   dataset['cdr3_beta_aa'].notna())))\n",
    "\n",
    "print('Could  reconstruct full ALPHA TCR for {0} entries of total {1} CDR3a entries'.format(\n",
    "    sum(   dataset['full_seq_reconstruct_alpha_aa'].notna()),\n",
    "    sum(   dataset['cdr3_alpha_aa'].notna())))\n",
    "\n"
   ],
   "metadata": {
    "collapsed": false,
    "pycharm": {
     "name": "#%%\n"
    }
   }
  }
 ],
 "metadata": {
  "kernelspec": {
   "display_name": "Python 3",
   "language": "python",
   "name": "python3"
  },
  "language_info": {
   "codemirror_mode": {
    "name": "ipython",
    "version": 2
   },
   "file_extension": ".py",
   "mimetype": "text/x-python",
   "name": "python",
   "nbconvert_exporter": "python",
   "pygments_lexer": "ipython2",
   "version": "2.7.6"
  }
 },
 "nbformat": 4,
 "nbformat_minor": 0
}