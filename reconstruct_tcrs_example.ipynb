{
 "cells": [
  {
   "cell_type": "markdown",
   "source": [
    "# Full length tcr reconstruction\n",
    "In this notebook an example is given on how to reconstruct full length tcr sequences from V, J and CDR3 annotations.\n",
    "When run on google colab, this notebook is assigned its own online environment. Therefore, everything done here will not affect your local files.\n",
    "However, it is possible to up- and download files to the directories (folder icon on the left).\n",
    "\n",
    "The reconstruction algorithm has been benchmarked on an internal dataset (RootPath), and an publically available dataset (10x).\n",
    "Compared to the reconstruction of RootPath this reconstruction method matched near 100%$^1$ of their reconstructions (900+ TCRA and TCRB).\n",
    "The 10x data was biological sample of 10k TCRS (50/50 TCRA/TCRB). The reconstruction fidelity of this dataset was $>85\\%$\n",
    "The remaining $15\\%$ was explained by biological and/or technical noise and by missing info for allelic differences (alleles are often not annotated).\n",
    "\n",
    "1. small differences were explained by a possible error and difference in assumptions between the unknown RootPath script and this method.\n",
    "\n",
    "## Requirements\n",
    "- a .csv file that contains the following columns (can be obtained by exporting/saving an excel file as .csv)\n",
    "    - V and J annotations columns should contain the following column names: `TRAV', 'TRAJ',  'TRBV' and 'TRBJ`\n",
    "    - CDR3a and CDR3b annotations should contain the following column names: `'cdr3_alpha_aa', 'cdr3_beta_aa'`\n",
    "- two translation dictionaries\n",
    "    - Multiple versions can be found in `/IMGT_versions`\n",
    "    - These translate (ambiguous) annotations to IMGT standardized format, and takes the corresponding V and J sequences.\n",
    "    - When no\n",
    "    - One should contain the IMGT annoations as keys with the $AA$ (amino acid) sequences as values\n",
    "    - The other should contain the IMGT annoations as keys with the $NT$ (nucleotide) sequences as values"
   ],
   "metadata": {
    "collapsed": false
   }
  },
  {
   "cell_type": "markdown",
   "source": [
    "### First of all: run this cell to copy the required files from github (only needed when running from google colab)"
   ],
   "metadata": {
    "collapsed": false
   }
  },
  {
   "cell_type": "code",
   "execution_count": null,
   "outputs": [],
   "source": [
    "!cd ~\n",
    "!rm -r TCR_reconstruction/\n",
    "!git clone https://github.com/bpkwee/TCR_reconstruction\n",
    "!pip install pysam"
   ],
   "metadata": {
    "collapsed": false,
    "pycharm": {
     "name": "#%%\n"
    }
   }
  },
  {
   "cell_type": "markdown",
   "source": [
    "### next import all relevant functions\n",
    "- import the functions that were downloaded from github\n",
    "- initialize the logging"
   ],
   "metadata": {
    "collapsed": false
   }
  },
  {
   "cell_type": "code",
   "execution_count": null,
   "outputs": [],
   "source": [
    "# from logger.logger import init_logger\n",
    "# from vdj_reconstruction_utils import reconstruct_full_tcr\n",
    "# from vdj_reconstruction_utils import reconstruct_vdj\n",
    "\n",
    "from TCR_reconstruction.logger.logger import init_logger\n",
    "from TCR_reconstruction.vdj_reconstruction_utils import reconstruct_vdj\n",
    "from TCR_reconstruction.vdj_reconstruction_utils import reconstruct_full_tcr\n",
    "import pandas\n",
    "\n",
    "logger = init_logger('TCR_reconstruction.log', level_msg='INFO')"
   ],
   "metadata": {
    "collapsed": false,
    "pycharm": {
     "name": "#%%\n"
    }
   }
  },
  {
   "cell_type": "markdown",
   "source": [
    "### specify file path and load the dataset\n",
    "If you upload your own, right to the file should be 3 dots (in google colab) here click 'copy file path'\n",
    "If your file is not loaded correctly, consider changing the `'delimeter=';'` to the correct delimeter.\n",
    "\n",
    "Example:\n",
    "```\n",
    "\n",
    "saved_dataset_file_path = '/content/TCR_reconstruction/saved_data/example.csv'\n",
    "translation_dict_aa = '/content/TCR_reconstruction/IMGT_versions/after_benchmark/functional_with_L-PART1+V-EXON_after_benchmark/vdj_translation_dict_aa_2021-12-05_18h_.json'\n",
    "translation_dict_nt = '/content/TCR_reconstruction/IMGT_versions/after_benchmark/functional_with_L-PART1+V-EXON_after_benchmark/vdj_translation_dict_nt_2021-12-05_18h_.json'\n",
    "```"
   ],
   "metadata": {
    "collapsed": false
   }
  },
  {
   "cell_type": "code",
   "execution_count": null,
   "outputs": [],
   "source": [
    "saved_dataset_file_path = '/content/TCR_reconstruction/saved_data/example.csv'\n",
    "translation_dict_aa = '/content/TCR_reconstruction/IMGT_versions/after_benchmark/functional_with_L-PART1+V-EXON_after_benchmark/vdj_translation_dict_aa_2021-12-05_18h_.json'\n",
    "translation_dict_nt = '/content/TCR_reconstruction/IMGT_versions/after_benchmark/functional_with_L-PART1+V-EXON_after_benchmark/vdj_translation_dict_nt_2021-12-05_18h_.json'\n",
    "dataset = pandas.read_csv(saved_dataset_file_path,delimiter=';' ,low_memory=False)\n",
    "dataset.head(10)"
   ],
   "metadata": {
    "collapsed": false,
    "pycharm": {
     "name": "#%%\n"
    }
   }
  },
  {
   "cell_type": "markdown",
   "source": [
    "Reconstruct the v,d and j aa and nt sequences from TRAV, TRAJ, TRBV, TRBJ annotations\n"
   ],
   "metadata": {
    "collapsed": false
   }
  },
  {
   "cell_type": "code",
   "execution_count": null,
   "outputs": [],
   "source": [
    "for vdj in ['TRAV', 'TRAJ', 'TRBV', 'TRBD', 'TRBJ']:\n",
    "    dataset[vdj + '_imgt_aa'],  dataset[vdj + '_seq_aa'],  dataset[\n",
    "        vdj + '_imgt_nt'],  dataset[vdj + '_seq_nt'] = reconstruct_vdj(dataset,\n",
    "                                                                       vdj,\n",
    "                                                                       translation_dict_nt,\n",
    "                                                                       translation_dict_aa)\n",
    "dataset.head(10)"
   ],
   "metadata": {
    "collapsed": false,
    "pycharm": {
     "name": "#%%\n"
    }
   }
  },
  {
   "cell_type": "markdown",
   "source": [
    "Calculate how many annotations could be matched to a IMGT sequence:"
   ],
   "metadata": {
    "collapsed": false
   }
  },
  {
   "cell_type": "code",
   "execution_count": null,
   "outputs": [],
   "source": [
    "total_len = len(  dataset)\n",
    "for nt_or_aa in ['aa', 'nt']:\n",
    "    for vdj in ['TRAV', 'TRAJ', 'TRBV', 'TRBD', 'TRBJ']:\n",
    "        count = sum(  dataset[vdj + '_seq_' + nt_or_aa].notna())\n",
    "        count_original = sum(  dataset[vdj].notna())\n",
    "        print('{0} imputed: {1} / {4} total annotations ({2}) ({3})'.format(vdj, count, total_len,\n",
    "                                                                                  nt_or_aa.upper(),\n",
    "                                                                                  count_original))"
   ],
   "metadata": {
    "collapsed": false,
    "pycharm": {
     "name": "#%%\n"
    }
   }
  },
  {
   "cell_type": "markdown",
   "source": [
    "### reconstructing the full sequence for the beta and alpha TCR\n",
    "### and calculate statistics\n",
    "For clarity it selects only the original columns and the reconstructed sequence.\n",
    "If you want all columns you should comment out :\n",
    "`dataset = dataset[['full_seq_reconstruct_beta_aa','full_seq_reconstruct_alpha_aa','cdr3_alpha_aa','cdr3_beta_aa','TRAV','TRAJ',\t'TRBV',\t'TRBD',\t'TRBJ']]`"
   ],
   "metadata": {
    "collapsed": false
   }
  },
  {
   "cell_type": "code",
   "execution_count": null,
   "outputs": [],
   "source": [
    "# beta\n",
    "dataset['full_seq_reconstruct_beta_aa'] = reconstruct_full_tcr(dataset['TRBV_seq_nt'],\n",
    "                                                               dataset['TRBV_seq_aa'],\n",
    "                                                               dataset['TRBJ_seq_nt'],\n",
    "                                                               dataset['TRBJ_seq_aa'],\n",
    "                                                               dataset['cdr3_beta_aa'],\n",
    "                                                               include_leader=False)\n",
    "# alpha\n",
    "dataset['full_seq_reconstruct_alpha_aa'] = reconstruct_full_tcr(dataset['TRAV_seq_nt'],\n",
    "                                                                dataset['TRAV_seq_aa'],\n",
    "                                                                dataset['TRAJ_seq_nt'],\n",
    "                                                                dataset['TRAJ_seq_aa'],\n",
    "                                                                dataset['cdr3_alpha_aa'],\n",
    "                                                                include_leader=False)\n",
    "\n",
    "dataset = dataset[['full_seq_reconstruct_beta_aa','full_seq_reconstruct_alpha_aa','cdr3_alpha_aa','cdr3_beta_aa','TRAV','TRAJ',\t'TRBV',\t'TRBD',\t'TRBJ']]\n",
    "dataset.head(10)"
   ],
   "metadata": {
    "collapsed": false,
    "pycharm": {
     "name": "#%%\n"
    }
   }
  },
  {
   "cell_type": "markdown",
   "source": [
    "### Calculate statistics on the reconstruction:"
   ],
   "metadata": {
    "collapsed": false
   }
  },
  {
   "cell_type": "code",
   "execution_count": null,
   "outputs": [],
   "source": [
    "print('Could reconstruct full BETA TCR for {0} entries of total {1} CDR3b entries'.format(\n",
    "    sum(dataset['full_seq_reconstruct_beta_aa'].notna()),\n",
    "    sum(   dataset['cdr3_beta_aa'].notna())))\n",
    "\n",
    "print('Could  reconstruct full ALPHA TCR for {0} entries of total {1} CDR3a entries'.format(\n",
    "    sum(   dataset['full_seq_reconstruct_alpha_aa'].notna()),\n",
    "    sum(   dataset['cdr3_alpha_aa'].notna())))"
   ],
   "metadata": {
    "collapsed": false,
    "pycharm": {
     "name": "#%%\n"
    }
   }
  },
  {
   "cell_type": "markdown",
   "source": [
    "### Lastly save the output\n",
    "To download the output again use the three dots besides the file in the directory"
   ],
   "metadata": {
    "collapsed": false
   }
  },
  {
   "cell_type": "code",
   "execution_count": null,
   "outputs": [],
   "source": [
    "dataset.to_csv('reconstructed_tcrs.csv')"
   ],
   "metadata": {
    "collapsed": false,
    "pycharm": {
     "name": "#%%\n"
    }
   }
  },
  {
   "cell_type": "markdown",
   "source": [
    "dataset.to_csv('reconstructed_tcrs.csv')"
   ],
   "metadata": {
    "collapsed": false
   }
  },
  {
   "cell_type": "markdown",
   "source": [
    "### First of all: run this cell to copy the required files from github (only needed when running from google colab)"
   ],
   "metadata": {
    "collapsed": false
   }
  },
  {
   "cell_type": "code",
   "execution_count": null,
   "outputs": [],
   "source": [
    "!cd ~\n",
    "!rm -r TCR_reconstruction/\n",
    "!git clone https://github.com/bpkwee/TCR_reconstruction\n",
    "!pip install pysam"
   ],
   "metadata": {
    "collapsed": false,
    "pycharm": {
     "name": "#%%\n"
    }
   }
  },
  {
   "cell_type": "markdown",
   "source": [
    "### next import all relevant functions\n",
    "- import the functions that were downloaded from github\n",
    "- initialize the logging"
   ],
   "metadata": {
    "collapsed": false
   }
  },
  {
   "cell_type": "code",
   "execution_count": null,
   "outputs": [],
   "source": [
    "# from logger.logger import init_logger\n",
    "# from vdj_reconstruction_utils import reconstruct_full_tcr\n",
    "# from vdj_reconstruction_utils import reconstruct_vdj\n",
    "\n",
    "from TCR_reconstruction.logger.logger import init_logger\n",
    "from TCR_reconstruction.vdj_reconstruction_utils import reconstruct_vdj\n",
    "from TCR_reconstruction.vdj_reconstruction_utils import reconstruct_full_tcr\n",
    "import pandas\n",
    "\n",
    "logger = init_logger('TCR_reconstruction.log', level_msg='INFO')"
   ],
   "metadata": {
    "collapsed": false,
    "pycharm": {
     "name": "#%%\n"
    }
   }
  },
  {
   "cell_type": "markdown",
   "source": [
    "### specify file path and load the dataset\n",
    "If you upload your own, right to the file should be 3 dots (in google colab) here click 'copy file path'\n",
    "If your file is not loaded correctly, consider changing the `'delimeter=';'` to the correct delimeter.\n",
    "\n",
    "Example:\n",
    "```\n",
    "\n",
    "saved_dataset_file_path = '/content/TCR_reconstruction/saved_data/example.csv'\n",
    "translation_dict_aa = '/content/TCR_reconstruction/IMGT_versions/after_benchmark/functional_with_L-PART1+V-EXON_after_benchmark/vdj_translation_dict_aa_2021-12-05_18h_.json'\n",
    "translation_dict_nt = '/content/TCR_reconstruction/IMGT_versions/after_benchmark/functional_with_L-PART1+V-EXON_after_benchmark/vdj_translation_dict_nt_2021-12-05_18h_.json'\n",
    "```"
   ],
   "metadata": {
    "collapsed": false
   }
  },
  {
   "cell_type": "code",
   "execution_count": null,
   "outputs": [],
   "source": [
    "saved_dataset_file_path = '/content/TCR_reconstruction/saved_data/example.csv'\n",
    "translation_dict_aa = '/content/TCR_reconstruction/IMGT_versions/after_benchmark/functional_with_L-PART1+V-EXON_after_benchmark/vdj_translation_dict_aa_2021-12-05_18h_.json'\n",
    "translation_dict_nt = '/content/TCR_reconstruction/IMGT_versions/after_benchmark/functional_with_L-PART1+V-EXON_after_benchmark/vdj_translation_dict_nt_2021-12-05_18h_.json'\n",
    "dataset = pandas.read_csv(saved_dataset_file_path,delimiter=';' ,low_memory=False)\n",
    "dataset.head(10)"
   ],
   "metadata": {
    "collapsed": false,
    "pycharm": {
     "name": "#%%\n"
    }
   }
  },
  {
   "cell_type": "markdown",
   "source": [
    "Reconstruct the v,d and j aa and nt sequences from TRAV, TRAJ, TRBV, TRBJ annotations\n"
   ],
   "metadata": {
    "collapsed": false
   }
  },
  {
   "cell_type": "code",
   "execution_count": null,
   "outputs": [],
   "source": [
    "for vdj in ['TRAV', 'TRAJ', 'TRBV', 'TRBD', 'TRBJ']:\n",
    "    dataset[vdj + '_imgt_aa'],  dataset[vdj + '_seq_aa'],  dataset[\n",
    "        vdj + '_imgt_nt'],  dataset[vdj + '_seq_nt'] = reconstruct_vdj(dataset,\n",
    "                                                                       vdj,\n",
    "                                                                       translation_dict_nt,\n",
    "                                                                       translation_dict_aa)\n",
    "dataset.head(10)"
   ],
   "metadata": {
    "collapsed": false,
    "pycharm": {
     "name": "#%%\n"
    }
   }
  },
  {
   "cell_type": "markdown",
   "source": [
    "Calculate how many annotations could be matched to a IMGT sequence:"
   ],
   "metadata": {
    "collapsed": false
   }
  },
  {
   "cell_type": "code",
   "execution_count": null,
   "outputs": [],
   "source": [
    "total_len = len(  dataset)\n",
    "for nt_or_aa in ['aa', 'nt']:\n",
    "    for vdj in ['TRAV', 'TRAJ', 'TRBV', 'TRBD', 'TRBJ']:\n",
    "        count = sum(  dataset[vdj + '_seq_' + nt_or_aa].notna())\n",
    "        count_original = sum(  dataset[vdj].notna())\n",
    "        print('{0} imputed: {1} / {4} total annotations ({2}) ({3})'.format(vdj, count, total_len,\n",
    "                                                                                  nt_or_aa.upper(),\n",
    "                                                                                  count_original))"
   ],
   "metadata": {
    "collapsed": false,
    "pycharm": {
     "name": "#%%\n"
    }
   }
  },
  {
   "cell_type": "markdown",
   "source": [
    "### reconstructing the full sequence for the beta and alpha TCR\n",
    "### and calculate statistics\n",
    "For clarity it selects only the original columns and the reconstructed sequence.\n",
    "If you want all columns you should comment out :\n",
    "`dataset = dataset[['full_seq_reconstruct_beta_aa','full_seq_reconstruct_alpha_aa','cdr3_alpha_aa','cdr3_beta_aa','TRAV','TRAJ',\t'TRBV',\t'TRBD',\t'TRBJ']]`"
   ],
   "metadata": {
    "collapsed": false
   }
  },
  {
   "cell_type": "code",
   "execution_count": null,
   "outputs": [],
   "source": [
    "# beta\n",
    "dataset['full_seq_reconstruct_beta_aa'] = reconstruct_full_tcr(dataset['TRBV_seq_nt'],\n",
    "                                                               dataset['TRBV_seq_aa'],\n",
    "                                                               dataset['TRBJ_seq_nt'],\n",
    "                                                               dataset['TRBJ_seq_aa'],\n",
    "                                                               dataset['cdr3_beta_aa'],\n",
    "                                                               include_leader=False)\n",
    "# alpha\n",
    "dataset['full_seq_reconstruct_alpha_aa'] = reconstruct_full_tcr(dataset['TRAV_seq_nt'],\n",
    "                                                                dataset['TRAV_seq_aa'],\n",
    "                                                                dataset['TRAJ_seq_nt'],\n",
    "                                                                dataset['TRAJ_seq_aa'],\n",
    "                                                                dataset['cdr3_alpha_aa'],\n",
    "                                                                include_leader=False)\n",
    "\n",
    "dataset = dataset[['full_seq_reconstruct_beta_aa','full_seq_reconstruct_alpha_aa','cdr3_alpha_aa','cdr3_beta_aa','TRAV','TRAJ',\t'TRBV',\t'TRBD',\t'TRBJ']]\n",
    "dataset.head(10)"
   ],
   "metadata": {
    "collapsed": false,
    "pycharm": {
     "name": "#%%\n"
    }
   }
  },
  {
   "cell_type": "markdown",
   "source": [
    "### Calculate statistics on the reconstruction:"
   ],
   "metadata": {
    "collapsed": false
   }
  },
  {
   "cell_type": "code",
   "execution_count": null,
   "outputs": [],
   "source": [
    "print('Could reconstruct full BETA TCR for {0} entries of total {1} CDR3b entries'.format(\n",
    "    sum(dataset['full_seq_reconstruct_beta_aa'].notna()),\n",
    "    sum(   dataset['cdr3_beta_aa'].notna())))\n",
    "\n",
    "print('Could  reconstruct full ALPHA TCR for {0} entries of total {1} CDR3a entries'.format(\n",
    "    sum(   dataset['full_seq_reconstruct_alpha_aa'].notna()),\n",
    "    sum(   dataset['cdr3_alpha_aa'].notna())))"
   ],
   "metadata": {
    "collapsed": false,
    "pycharm": {
     "name": "#%%\n"
    }
   }
  },
  {
   "cell_type": "markdown",
   "source": [
    "### Lastly save the output\n",
    "To download the output again use the three dots besides the file in the directory"
   ],
   "metadata": {
    "collapsed": false
   }
  },
  {
   "cell_type": "code",
   "execution_count": null,
   "outputs": [],
   "source": [
    "dataset.to_csv('reconstructed_tcrs.csv')"
   ],
   "metadata": {
    "collapsed": false,
    "pycharm": {
     "name": "#%%\n"
    }
   }
  }
 ],
 "metadata": {
  "kernelspec": {
   "display_name": "Python 3",
   "language": "python",
   "name": "python3"
  },
  "language_info": {
   "codemirror_mode": {
    "name": "ipython",
    "version": 2
   },
   "file_extension": ".py",
   "mimetype": "text/x-python",
   "name": "python",
   "nbconvert_exporter": "python",
   "pygments_lexer": "ipython2",
   "version": "2.7.6"
  }
 },
 "nbformat": 4,
 "nbformat_minor": 0
}